{
 "cells": [
  {
   "cell_type": "code",
   "execution_count": 1,
   "id": "e0b2df03",
   "metadata": {},
   "outputs": [],
   "source": [
    "import numpy as np\n",
    "import pandas as pd"
   ]
  },
  {
   "cell_type": "code",
   "execution_count": 2,
   "id": "e00878fa",
   "metadata": {},
   "outputs": [],
   "source": [
    "data_path = ''\n",
    "\n",
    "sales_train = pd.read_csv(data_path + 'sales_train.csv')\n",
    "shops = pd.read_csv(data_path + 'shops.csv')\n",
    "items = pd.read_csv(data_path + 'items.csv')\n",
    "item_categories = pd.read_csv(data_path + 'item_categories.csv')"
   ]
  },
  {
   "cell_type": "code",
   "execution_count": 3,
   "id": "a17c5e5c",
   "metadata": {},
   "outputs": [],
   "source": [
    "train = sales_train.merge(shops, on='shop_id', how='left')\n",
    "train = train.merge(items, on = 'item_id', how='left')\n",
    "train = train.merge(item_categories, on='item_category_id', how='left')"
   ]
  },
  {
   "cell_type": "code",
   "execution_count": 4,
   "id": "de43d15d",
   "metadata": {},
   "outputs": [
    {
     "data": {
      "text/plain": [
       "date                   object\n",
       "date_block_num          int64\n",
       "shop_id                 int64\n",
       "item_id                 int64\n",
       "item_price            float64\n",
       "item_cnt_day          float64\n",
       "shop_name              object\n",
       "item_name              object\n",
       "item_category_id        int64\n",
       "item_category_name     object\n",
       "dtype: object"
      ]
     },
     "execution_count": 4,
     "metadata": {},
     "output_type": "execute_result"
    }
   ],
   "source": [
    "train.dtypes"
   ]
  },
  {
   "cell_type": "code",
   "execution_count": 8,
   "id": "c7081a32",
   "metadata": {},
   "outputs": [
    {
     "data": {
      "text/plain": [
       "Index                 23486792\n",
       "date                  23486792\n",
       "date_block_num        23486792\n",
       "shop_id               23486792\n",
       "item_id               23486792\n",
       "item_price            23486792\n",
       "item_cnt_day          23486792\n",
       "shop_name             23486792\n",
       "item_name             23486792\n",
       "item_category_id      23486792\n",
       "item_category_name    23486792\n",
       "dtype: int64"
      ]
     },
     "execution_count": 8,
     "metadata": {},
     "output_type": "execute_result"
    }
   ],
   "source": [
    "train.memory_usage()"
   ]
  },
  {
   "cell_type": "code",
   "execution_count": 11,
   "id": "272748a7",
   "metadata": {},
   "outputs": [
    {
     "data": {
      "text/plain": [
       "258354712"
      ]
     },
     "execution_count": 11,
     "metadata": {},
     "output_type": "execute_result"
    }
   ],
   "source": [
    "train.memory_usage().sum()"
   ]
  },
  {
   "cell_type": "code",
   "execution_count": 12,
   "id": "af59ce1c",
   "metadata": {},
   "outputs": [
    {
     "data": {
      "text/plain": [
       "258354712"
      ]
     },
     "execution_count": 12,
     "metadata": {},
     "output_type": "execute_result"
    }
   ],
   "source": [
    "a= 23486792*11\n",
    "a"
   ]
  },
  {
   "cell_type": "code",
   "execution_count": 17,
   "id": "2d136613",
   "metadata": {},
   "outputs": [
    {
     "name": "stdout",
     "output_type": "stream",
     "text": [
      "246.3862533569336 MB\n"
     ]
    }
   ],
   "source": [
    "start_mem = train.memory_usage().sum()/1024**2\n",
    "print(start_mem , 'MB')"
   ]
  },
  {
   "cell_type": "code",
   "execution_count": 48,
   "id": "f78b7dfe",
   "metadata": {},
   "outputs": [],
   "source": [
    "df = train"
   ]
  },
  {
   "cell_type": "code",
   "execution_count": 49,
   "id": "310b8b82",
   "metadata": {},
   "outputs": [
    {
     "data": {
      "text/plain": [
       "Index(['date', 'date_block_num', 'shop_id', 'item_id', 'item_price',\n",
       "       'item_cnt_day', 'shop_name', 'item_name', 'item_category_id',\n",
       "       'item_category_name'],\n",
       "      dtype='object')"
      ]
     },
     "execution_count": 49,
     "metadata": {},
     "output_type": "execute_result"
    }
   ],
   "source": [
    "df.columns"
   ]
  },
  {
   "cell_type": "code",
   "execution_count": 60,
   "id": "816418f0",
   "metadata": {},
   "outputs": [
    {
     "data": {
      "text/plain": [
       "'int16'"
      ]
     },
     "execution_count": 60,
     "metadata": {},
     "output_type": "execute_result"
    }
   ],
   "source": [
    "df['item_cnt_day'].dtype.name"
   ]
  },
  {
   "cell_type": "code",
   "execution_count": 64,
   "id": "e23a81ce",
   "metadata": {},
   "outputs": [
    {
     "data": {
      "text/plain": [
       "True"
      ]
     },
     "execution_count": 64,
     "metadata": {},
     "output_type": "execute_result"
    }
   ],
   "source": [
    "(df['date_block_num'].round() == df['date_block_num']).all()"
   ]
  },
  {
   "cell_type": "code",
   "execution_count": 20,
   "id": "e92fe8f8",
   "metadata": {},
   "outputs": [],
   "source": [
    "for col in df.columns:\n",
    "    dtype_name = df[col].dtype.name\n",
    "    if dtype_name == 'object':\n",
    "        pass\n",
    "    elif dtype_name == 'bool':\n",
    "        df[col]=df[col].astype('int8')\n",
    "    elif dtype_name.startswith('int') or (df[col].round() == df[col]).all():\n",
    "        df[col]=pd.to_numeric(df[col], downcast = 'integer')\n",
    "    else:\n",
    "        df[col]=pd.to_numeric(df[col], downcast='float')\n",
    "        \n",
    "    end_mem= df.memory_usage().sum()/1024**2"
   ]
  },
  {
   "cell_type": "code",
   "execution_count": 21,
   "id": "930b80e7",
   "metadata": {},
   "outputs": [
    {
     "data": {
      "text/plain": [
       "date                   object\n",
       "date_block_num           int8\n",
       "shop_id                  int8\n",
       "item_id                 int16\n",
       "item_price            float32\n",
       "item_cnt_day            int16\n",
       "shop_name              object\n",
       "item_name              object\n",
       "item_category_id         int8\n",
       "item_category_name     object\n",
       "dtype: object"
      ]
     },
     "execution_count": 21,
     "metadata": {},
     "output_type": "execute_result"
    }
   ],
   "source": [
    "df.dtypes"
   ]
  },
  {
   "cell_type": "code",
   "execution_count": 22,
   "id": "431b3353",
   "metadata": {},
   "outputs": [
    {
     "data": {
      "text/plain": [
       "Index                 23486792\n",
       "date                  23486792\n",
       "date_block_num         2935849\n",
       "shop_id                2935849\n",
       "item_id                5871698\n",
       "item_price            11743396\n",
       "item_cnt_day           5871698\n",
       "shop_name             23486792\n",
       "item_name             23486792\n",
       "item_category_id       2935849\n",
       "item_category_name    23486792\n",
       "dtype: int64"
      ]
     },
     "execution_count": 22,
     "metadata": {},
     "output_type": "execute_result"
    }
   ],
   "source": [
    "df.memory_usage()"
   ]
  },
  {
   "cell_type": "code",
   "execution_count": 26,
   "id": "e26348cf",
   "metadata": {},
   "outputs": [
    {
     "data": {
      "text/plain": [
       "142.7920331954956"
      ]
     },
     "execution_count": 26,
     "metadata": {},
     "output_type": "execute_result"
    }
   ],
   "source": [
    "end_mem = df.memory_usage().sum()/1024**2\n",
    "end_mem"
   ]
  },
  {
   "cell_type": "code",
   "execution_count": 35,
   "id": "758bca68",
   "metadata": {},
   "outputs": [
    {
     "name": "stdout",
     "output_type": "stream",
     "text": [
      "42.0% 압축됨\n"
     ]
    }
   ],
   "source": [
    "print(\"{:.1f}% 압축됨\".format(100*(start_mem-end_mem)/start_mem))"
   ]
  },
  {
   "cell_type": "code",
   "execution_count": 89,
   "id": "934f96e0",
   "metadata": {},
   "outputs": [
    {
     "name": "stdout",
     "output_type": "stream",
     "text": [
      "float64\n",
      "0    1.23\n",
      "1    2.00\n",
      "2    3.00\n",
      "Name: 0, dtype: float64\n"
     ]
    }
   ],
   "source": [
    "# numeric test\n",
    "a = [1.23, 2, 3]\n",
    "b=pd.DataFrame(a)\n",
    "print(b[0].dtype)\n",
    "print(b[0])"
   ]
  },
  {
   "cell_type": "code",
   "execution_count": 84,
   "id": "54c6acf2",
   "metadata": {},
   "outputs": [
    {
     "data": {
      "text/plain": [
       "dtype('float32')"
      ]
     },
     "execution_count": 84,
     "metadata": {},
     "output_type": "execute_result"
    }
   ],
   "source": [
    "b[0] = pd.to_numeric(b[0], downcast='float')\n",
    "b[0].dtype"
   ]
  },
  {
   "cell_type": "code",
   "execution_count": 85,
   "id": "c7227440",
   "metadata": {},
   "outputs": [
    {
     "data": {
      "text/plain": [
       "0    1.23\n",
       "1    2.00\n",
       "2    3.00\n",
       "Name: 0, dtype: float32"
      ]
     },
     "execution_count": 85,
     "metadata": {},
     "output_type": "execute_result"
    }
   ],
   "source": [
    "b[0]"
   ]
  },
  {
   "cell_type": "code",
   "execution_count": null,
   "id": "fb44abe5",
   "metadata": {},
   "outputs": [],
   "source": []
  }
 ],
 "metadata": {
  "kernelspec": {
   "display_name": "Python 3 (ipykernel)",
   "language": "python",
   "name": "python3"
  },
  "language_info": {
   "codemirror_mode": {
    "name": "ipython",
    "version": 3
   },
   "file_extension": ".py",
   "mimetype": "text/x-python",
   "name": "python",
   "nbconvert_exporter": "python",
   "pygments_lexer": "ipython3",
   "version": "3.9.13"
  }
 },
 "nbformat": 4,
 "nbformat_minor": 5
}
